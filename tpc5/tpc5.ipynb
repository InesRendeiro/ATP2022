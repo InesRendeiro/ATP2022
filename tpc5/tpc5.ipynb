{
 "cells": [
  {
   "cell_type": "code",
   "execution_count": null,
   "metadata": {},
   "outputs": [],
   "source": [
    "def read(file):\n",
    "    f=open(str(file),\"r\")\n",
    "    list=[]\n",
    "    for line in f:\n",
    "        paciente=line[:-1].split(\",\")\n",
    "        list.append(paciente)\n",
    "    f.close\n",
    "    return list\n",
    "\n",
    "def sexo(lista):\n",
    "    m=0\n",
    "    f=0\n",
    "    for i in lista:\n",
    "        if i[-1]==\"1\":\n",
    "            if i[1]==\"M\":\n",
    "                m=m+1\n",
    "            else:\n",
    "                f=f+1\n",
    "    distrsex=[(\"F\",f),(\"M\",m)]\n",
    "    return distrsex\n",
    "\n",
    "def etaria(lista):\n",
    "    idade=30\n",
    "    distridade=[]\n",
    "    while idade<86:\n",
    "        escalão=[idade,idade+4]\n",
    "        n=0\n",
    "        for i in lista:\n",
    "            if i[-1]==\"1\" and escalão[0]<= int(i[0])<escalão[1]:\n",
    "                n=n+1\n",
    "            distridade.append(escalão,n)\n",
    "            idade=idade+4\n",
    "    return distridade\n",
    "\n",
    "def colestrol(lista):\n",
    "    c=0\n",
    "    coles=[]\n",
    "    while c<=540:\n",
    "        escalão=[c,c+10]\n",
    "        n=0\n",
    "        for i in lista:\n",
    "            if i[-1]==\"1\" and escalão[0] <=int(i[3])<escalão[1]:\n",
    "                n=n+1\n",
    "            coles.append(escalão,n)\n",
    "            c=c+10\n",
    "    return coles \n",
    "\n",
    "def tabela(dados,critério):\n",
    "    if critério==sexo:\n",
    "        print(\" Sexo   | nº de pessoas doentes\")\n",
    "    if critério==etaria:\n",
    "        print(\"Distribuição etária   | nº de pessoas doentes\")\n",
    "    if critério==colestrol:\n",
    "        print(\"Colestrol   | nº de doentes\")\n",
    "    for i in critério(dados):\n",
    "        print(i[0], \"|\", i[1], end=\"\")\n",
    "\n",
    "dados=read(\"myheart.csv\")\n",
    "tabela(dados,sexo)\n",
    "tabela(dados,etaria)\n",
    "tabela(dados,colestrol)\n"
   ]
  }
 ],
 "metadata": {
  "kernelspec": {
   "display_name": "Python 3.9.12 ('base')",
   "language": "python",
   "name": "python3"
  },
  "language_info": {
   "name": "python",
   "version": "3.9.12"
  },
  "orig_nbformat": 4,
  "vscode": {
   "interpreter": {
    "hash": "b13504346dc28e40374e877b264720aa573cdf626488aba6e4aeb5215476fbdc"
   }
  }
 },
 "nbformat": 4,
 "nbformat_minor": 2
}
