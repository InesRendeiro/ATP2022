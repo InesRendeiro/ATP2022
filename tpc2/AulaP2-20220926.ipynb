{
 "cells": [
  {
   "cell_type": "markdown",
   "id": "1e545158",
   "metadata": {},
   "source": [
    "# Aula Prática 2 (guião)\n",
    "### Semana de 26 a 30 de Setembro de 2022\n",
    "### José Carlos Ramalho e Luís Cunha\n",
    "### Sinopsis:\n",
    "Algoritmos de cálculo numérico envolvendo estruturas condicionais (if-elif-else) e cíclicas (while)."
   ]
  },
  {
   "cell_type": "markdown",
   "id": "e38d18c4-d7d7-4fea-9bc6-e3f3c903386b",
   "metadata": {},
   "source": [
    "### Exercício 1: Soma de N números\n",
    "- Leia um número N;\n",
    "- Leia N números;\n",
    "- Imprima a soma dos N números."
   ]
  },
  {
   "cell_type": "code",
   "execution_count": 1,
   "id": "af973146-3bb4-4fa8-ba6c-b887b79ccff8",
   "metadata": {},
   "outputs": [
    {
     "name": "stdout",
     "output_type": "stream",
     "text": [
      "3\n",
      "15\n"
     ]
    }
   ],
   "source": [
    "N = int(input(\"insira um nr. N\"))\n",
    "soma=0\n",
    "print (N)\n",
    "while(N>0):\n",
    "    n=int(input(\"insira n\"))\n",
    "    soma=soma+n\n",
    "    N=N-1\n",
    "print (soma)\n"
   ]
  },
  {
   "cell_type": "markdown",
   "id": "bdcbffb0",
   "metadata": {},
   "source": [
    "### Exercício 2: O Maior de N números\n",
    "- Leia um número N;\n",
    "- Leia N números;\n",
    "- Imprima o maior dos N números."
   ]
  },
  {
   "cell_type": "code",
   "execution_count": 32,
   "id": "af973146-3bb4-4fa8-ba6c-b887b79ccff8",
   "metadata": {},
   "outputs": [
    {
     "name": "stdout",
     "output_type": "stream",
     "text": [
      "6\n"
     ]
    }
   ],
   "source": [
    "N=int(input(\"insira um nr N\"))\n",
    "maior=int(input(\"insira o primeiro n de N\"))\n",
    "N=N-1\n",
    "while(N>0):\n",
    "    n=int(input(\"insira um n\"))\n",
    "    if n>maior:\n",
    "        maior=n\n",
    "    N=N-1\n",
    "print(maior)"
   ]
  },
  {
   "cell_type": "markdown",
   "id": "bdcbffb0",
   "metadata": {},
   "source": [
    "### Exercício 3: O Menor de N números\n",
    "- Leia um número N;\n",
    "- Leia N números;\n",
    "- Imprima o menor dos N números."
   ]
  },
  {
   "cell_type": "code",
   "execution_count": null,
   "id": "64ad6f7b",
   "metadata": {},
   "outputs": [
    {
     "name": "stdout",
     "output_type": "stream",
     "text": [
      "-4\n"
     ]
    }
   ],
   "source": [
    "# Solução do exercício 3\n",
    "N=int(input(\"insira o numero N\"))\n",
    "menor=int(input(\"insira o priemiro num de N\"))\n",
    "N= N-1\n",
    "while(N>0):\n",
    "    n=int(input(\"insira o numero n\"))\n",
    "    if menor>n:\n",
    "        menor=n\n",
    "    N=N-1\n",
    "print(menor)"
   ]
  },
  {
   "cell_type": "markdown",
   "id": "bdcbffb0",
   "metadata": {},
   "source": [
    "### Exercício 4: A Média de N números\n",
    "- Leia um número N;\n",
    "- Leia N números;\n",
    "- Imprima a média dos N números."
   ]
  },
  {
   "cell_type": "code",
   "execution_count": null,
   "id": "a6c32b2e",
   "metadata": {},
   "outputs": [
    {
     "name": "stdout",
     "output_type": "stream",
     "text": [
      "5.0\n"
     ]
    }
   ],
   "source": [
    "# Solução do exercício 4\n",
    "N=(int(input(\"insira o numero N\")))\n",
    "soma=0\n",
    "media=0\n",
    "total=N\n",
    "while(N>0):\n",
    "    n=int(input(\"insira o numero n\"))\n",
    "    soma=soma+n\n",
    "    N=N-1\n",
    "    media=soma/total\n",
    "print(media)\n"
   ]
  },
  {
   "cell_type": "markdown",
   "id": "f41ef69b",
   "metadata": {},
   "source": [
    "### Exercício 5: Potência\n",
    "- Defina uma função **pot** que recebe dois parâmetros, **a** e **b**, e retorna o resultado de **a elevado à potência de b**.\n",
    "- Use esta função para escrever no monitor as potências de 2 com expoentes de 1 a 20."
   ]
  },
  {
   "cell_type": "code",
   "execution_count": null,
   "id": "86f5b24d",
   "metadata": {},
   "outputs": [
    {
     "name": "stdout",
     "output_type": "stream",
     "text": [
      "2\n",
      "4\n",
      "8\n",
      "16\n",
      "32\n",
      "64\n",
      "128\n",
      "256\n",
      "512\n",
      "1024\n",
      "2048\n",
      "4096\n",
      "8192\n",
      "16384\n",
      "32768\n",
      "65536\n",
      "131072\n",
      "262144\n",
      "524288\n",
      "1048576\n"
     ]
    }
   ],
   "source": [
    "def pot(a,b):\n",
    "    c=1\n",
    "    while(b>0):\n",
    "        c=c*a\n",
    "        b=b-1\n",
    "    return c     \n",
    "\n",
    "i=1\n",
    "while(i<21):\n",
    "    print(pot(2,i))\n",
    "    i=i+1\n",
    "   "
   ]
  },
  {
   "cell_type": "markdown",
   "id": "d11cdd11",
   "metadata": {},
   "source": [
    "### Exercício 6: Série numérica\n",
    "- Defina uma função **serie** que recebe três parâmetros, **base**, **salto** e **nelems**, e escreve no monitor a série;\n",
    "- Invocada com: **serie(7, 4, 5)** escreveria: 7, 11, 15, 19, 23"
   ]
  },
  {
   "cell_type": "code",
   "execution_count": null,
   "id": "7549c7d7",
   "metadata": {},
   "outputs": [
    {
     "name": "stdout",
     "output_type": "stream",
     "text": [
      "7\n",
      "11\n",
      "15\n",
      "19\n",
      "23\n"
     ]
    }
   ],
   "source": [
    "# Solução do exercício 6\n",
    "def serie(b,s,n):\n",
    "    print(b)\n",
    "    while (n>1):\n",
    "        b=b+s\n",
    "        n=n-1 \n",
    "        print(b)  \n",
    "    return \n",
    "\n",
    "serie(int(input(\"insira b\")), int(input(\"insira s\")), int(input(\"insira n\")))\n"
   ]
  },
  {
   "cell_type": "markdown",
   "id": "73187e87",
   "metadata": {},
   "source": [
    "### Exercício 7: Desenhar um quadrado\n",
    "- Defina uma função **quad** que recebe um argumento, **n**, e desenha no monitor um quadrado usando o caráter '#';\n",
    "- O resultado da invocação dessa função com um argumento 3 deverá ser:\n",
    "```\n",
    "###\n",
    "###\n",
    "###\n",
    "```"
   ]
  },
  {
   "cell_type": "code",
   "execution_count": 29,
   "id": "a31f8eaf",
   "metadata": {},
   "outputs": [
    {
     "name": "stdout",
     "output_type": "stream",
     "text": [
      "###\n",
      "###\n",
      "###\n"
     ]
    }
   ],
   "source": [
    "# Solução do exercício 7\n",
    "def quad(n):\n",
    "    i=0\n",
    "    while (n>i):\n",
    "        j=0\n",
    "        while n>j:\n",
    "            j=j+1\n",
    "            print(\"#\",end=\"\")\n",
    "        \n",
    "        i=i+1\n",
    "        print(\"\")\n",
    "    return      \n",
    "quad(int(input(\"numero n\")))"
   ]
  },
  {
   "cell_type": "markdown",
   "id": "10b1d00c",
   "metadata": {},
   "source": [
    "### Exercício 8: Desenhar um quadrado\n",
    "- Defina uma função que desenhe no ecran (usando os caracteres # e _) um tabuleiro de xadrez; \n",
    "- O resultado da invocação dessa função com um argumento 5 deverá ser:\n",
    "```\n",
    "#_#_#\n",
    "_#_#_\n",
    "#_#_#\n",
    "_#_#_\n",
    "#_#_#\n",
    "```"
   ]
  },
  {
   "cell_type": "code",
   "execution_count": 30,
   "id": "a4ccf6e1",
   "metadata": {},
   "outputs": [
    {
     "name": "stdout",
     "output_type": "stream",
     "text": [
      "#_#_#\n",
      "_#_#_\n",
      "#_#_#\n",
      "_#_#_\n",
      "#_#_#\n"
     ]
    }
   ],
   "source": [
    "# Solução do exercício 8\n",
    "def xadrez (n):\n",
    "    i=0\n",
    "    while(n>i):\n",
    "        if(i%2==0):\n",
    "            j=0\n",
    "            while(n>j):\n",
    "                j=j+1\n",
    "                if (j%2 ==0):\n",
    "                    print(\"_\",end=\"\")\n",
    "                else:\n",
    "                    print(\"#\",end=\"\")\n",
    "        else:\n",
    "            j=1\n",
    "            while(n+1>j):\n",
    "                j=j+1\n",
    "                if(j%2==0):\n",
    "                    print(\"_\",end=\"\")\n",
    "                else:\n",
    "                    print(\"#\",end=\"\")\n",
    "        i=i+1    \n",
    "        print(\"\")\n",
    "    return\n",
    "xadrez(int(input(\"introduza o n\")))"
   ]
  },
  {
   "cell_type": "markdown",
   "id": "f4e2bc84",
   "metadata": {},
   "source": [
    "### Exercício 9: Índice de Massa Corporal\n",
    "- Defina uma função **imc** que recebe dois parâmetros, **peso**,**altura**, calcula o IMC corresponente e interpreta esse resultado.\n",
    "- imc(53,1.56) - Output: \"O seu índice de massa corporal é **21.78** e encontra-se na categoria **Normal**\"\n",
    "- imc(83,1.56) - Output: \"O seu índice de massa corporal é **34.11** e encontra-se na categoria **Obesidade grau I**\"\n",
    "\n",
    "Valores:\n",
    "- Menor que 18,5 - Baixo peso\n",
    "- 18,5 a 24,9 - Normal\n",
    "- 25 a 29,9\t- Excesso de peso\n",
    "- 30 a 34,9\t- Obesidade grau I\n",
    "- 35 a 39,9\t- Obesidade grau II\n",
    "- Maior que 40\t- Obesidade grau III"
   ]
  },
  {
   "cell_type": "code",
   "execution_count": 34,
   "id": "2a62004a",
   "metadata": {},
   "outputs": [
    {
     "name": "stdout",
     "output_type": "stream",
     "text": [
      "O seu índice de masa corporal é 20.322252866889244 e encontra-se na categoría Normal\n"
     ]
    }
   ],
   "source": [
    "# Solução do exercício 9\n",
    "def imc(peso,altura):\n",
    "    imc=float(peso/(altura**2))\n",
    "    if imc<18.5:\n",
    "        print(\"O seu indice de massa corporal é\",imc, \"e encontra-se na categoria Baixo Peso\")\n",
    "    elif 18.5<=imc<=24.9:\n",
    "        print(\"O seu índice de masa corporal é\", imc, \"e encontra-se na categoría Normal\")\n",
    "    elif 25<=imc<=29.9:\n",
    "        print(\"O seu índice de masa corporal é\", imc, \"e encontra-se na categoría Excesso de Peso\")\n",
    "    elif 30<=imc<=34.9:\n",
    "        print(\"O seu índice de masa corporal é\", imc, \"e encontra-se na categoría Obsidade grau I\")\n",
    "    elif 35<=imc<=39.9:\n",
    "        print(\"O seu índice de masa corporal é\", imc, \"e encontra-se na categoría Obsidade grau II\")\n",
    "    else: \n",
    "        imc>40\n",
    "        print(\"O seu índice de masa corporal é\", imc, \"e encontra-se na categoría Obsidade grau III\")\n",
    "    return\n",
    "\n",
    "peso=int(input(\"introdu o teu peso\"))\n",
    "altura=float(input(\"introduz a tua altura\"))\n",
    "imc(peso,altura)\n"
   ]
  },
  {
   "cell_type": "markdown",
   "id": "5dcb3573",
   "metadata": {},
   "source": [
    "### Exercício 10: Série de Fibonacci\n",
    "- Defina uma função **fib** que recebe um argumento, **n**, e escreve no monitor os primeiros n elementos da série de fibonacci;\n",
    "- A série de Fibonacci tem a seguinte definição matemática:\n",
    "    - Se n < 2 ==> 1\n",
    "    - Se n >= 2 ==> fib(n-1) + fib(n-2)"
   ]
  },
  {
   "cell_type": "code",
   "execution_count": 60,
   "id": "fc54507c",
   "metadata": {},
   "outputs": [
    {
     "name": "stdout",
     "output_type": "stream",
     "text": [
      "0\n",
      "1\n",
      "1\n",
      "2\n",
      "3\n",
      "5\n",
      "8\n",
      "13\n",
      "21\n",
      "34\n"
     ]
    }
   ],
   "source": [
    "# Solução do exercício 10\n",
    "def fib(n):\n",
    "    f1=0\n",
    "    f2=1\n",
    "    if n==1:\n",
    "        print(\"1\")\n",
    "    else:\n",
    "        while (n>0):\n",
    "            f3=f1+f2\n",
    "            print(f1)\n",
    "            f1=f2\n",
    "            f2=f3\n",
    "            n=n-1\n",
    "    return\n",
    "  \n",
    "fib(int(input(\"introduz n\")))\n"
   ]
  },
  {
   "cell_type": "markdown",
   "id": "c10a9e44",
   "metadata": {},
   "source": [
    "### Exercício 11: Potência (recursiva)\n",
    "- Revisitando o problema da potência:\n",
    "    - Defina uma função **pot** que recebe dois parâmetros, **a** e **b**, e retorna o resultado de **a elevado à potência de b**;\n",
    "    - Defina esta função de forma recursiva."
   ]
  },
  {
   "cell_type": "code",
   "execution_count": 63,
   "id": "00146b49",
   "metadata": {},
   "outputs": [
    {
     "data": {
      "text/plain": [
       "8"
      ]
     },
     "execution_count": 63,
     "metadata": {},
     "output_type": "execute_result"
    }
   ],
   "source": [
    "# Solução do exercício 11\n",
    "def pot(base,exp):\n",
    "    if exp==1:\n",
    "        return base \n",
    "    return base*pot(base,exp-1)\n",
    "pot(int(input(\"introduz uma base\")),int(input(\"introduz um expoente\")))"
   ]
  },
  {
   "cell_type": "markdown",
   "id": "81703f1b",
   "metadata": {},
   "source": [
    "### TPC2: Adivinha o número\n",
    "- Crie um programa em Python para jogar o jogo \"Adivinha o número\":\n",
    "    - O jogo pode ter 2 modalidades: computador pensa num número (entre 0 e 100), utilizador tenta adivinhar; ou, o utilizador pensa num número (entre 0 e 100) e o computador tenta adivinhar;\n",
    "    - Quem tenta adivinhar responde com uma das afirmações: \"Acertou\", \"O número que pensei é Maior\" ou \"O número que pensei é Menor\";\n",
    "    - Uma vez descoberto o número o programa deverá terminar imprimindo o número de tentativas que quem adivinhou usou para chegar ao resultado."
   ]
  },
  {
   "cell_type": "code",
   "execution_count": 31,
   "id": "ce84883d",
   "metadata": {},
   "outputs": [
    {
     "name": "stdout",
     "output_type": "stream",
     "text": [
      "o número é menor que 91\n",
      "o número é maior que 39\n",
      "o número é menor que 69\n",
      "o número é menor que 44\n",
      "o número é menor que 43\n",
      "o número é maior que 39\n",
      "o número é menor que 43\n",
      "Encontrei em 7 tentativas o número 40\n"
     ]
    }
   ],
   "source": [
    "#tpc2\n",
    "import random\n",
    "guesser=int(input(\"Quem vai adivinhar?(0-computador,1-eu)\"))\n",
    "iters=0\n",
    "if guesser==1:\n",
    "    num=random.randint(0,100)\n",
    "    guess=int(input(\"O meu número é?\"))\n",
    "    while num!=guess:\n",
    "        if guess<num:\n",
    "            print(\"O meu número é maior\")\n",
    "            iters=iters+1\n",
    "            guess=int(input(\"Tente novamente\"))\n",
    "        elif guess>num:\n",
    "            print(\"O meu número é menor\")\n",
    "            iters=iters+1\n",
    "            guess=int(input(\"Tente novamente\"))\n",
    "    print(\"Acertou em\", iters+1, \"tentativas\")\n",
    "else:\n",
    "    num2 = int(input(\"Escolhe o teu numero:\"))\n",
    "    min, max = 0, 100\n",
    "    guess = random.randint(min, max)\n",
    "    while (guess != num2):\n",
    "      if (guess > num2):\n",
    "          print(\"o número é menor que\",guess,)\n",
    "          max = guess\n",
    "      if (num2 >= guess):\n",
    "          print(\"o número é maior que\",guess)\n",
    "          min = guess\n",
    "      iters = iters+1\n",
    "      guess = random.randint(min, max)\n",
    "\n",
    "print(\"Encontrei em\", iters, \"tentativas o número\", num2)"
   ]
  }
 ],
 "metadata": {
  "kernelspec": {
   "display_name": "Python 3.9.12 ('base')",
   "language": "python",
   "name": "python3"
  },
  "language_info": {
   "codemirror_mode": {
    "name": "ipython",
    "version": 3
   },
   "file_extension": ".py",
   "mimetype": "text/x-python",
   "name": "python",
   "nbconvert_exporter": "python",
   "pygments_lexer": "ipython3",
   "version": "3.9.12"
  },
  "vscode": {
   "interpreter": {
    "hash": "b13504346dc28e40374e877b264720aa573cdf626488aba6e4aeb5215476fbdc"
   }
  }
 },
 "nbformat": 4,
 "nbformat_minor": 5
}
